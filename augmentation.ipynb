{
 "cells": [
  {
   "cell_type": "code",
   "execution_count": 4,
   "metadata": {},
   "outputs": [],
   "source": [
    "import Augmentor\n",
    "from IPython.display import Image, display, HTML\n",
    "\n",
    "from glob import glob\n",
    "import pandas as pd\n",
    "import os\n",
    "import shutil"
   ]
  },
  {
   "cell_type": "code",
   "execution_count": 7,
   "metadata": {},
   "outputs": [],
   "source": [
    "images = pd.read_csv('data/metadata_rgb_only.csv')\n",
    "\n",
    "new_directory = 'data/augumented_data'\n",
    "os.makedirs(new_directory, exist_ok=True)\n",
    "os.makedirs(new_directory + '/tumor', exist_ok=True)\n",
    "os.makedirs(new_directory + '/normal', exist_ok=True)\n",
    "\n",
    "for image in images.iterrows():\n",
    "    if image[1]['image'][-3:] == 'jpg' and image[1]['mode'] == 'RGB':\n",
    "        if image[1]['class'] == 'tumor':\n",
    "            source_path = os.path.join('data/Brain Tumor Data Set/Brain Tumor/', image[1]['image'])\n",
    "            destination_path = os.path.join(new_directory + '/tumor', image[1]['image'])\n",
    "            shutil.copy(source_path, destination_path)\n",
    "        else:\n",
    "            source_path = os.path.join('data/Brain Tumor Data Set/Healthy/', image[1]['image'])\n",
    "            destination_path = os.path.join(new_directory + '/normal', image[1]['image'])\n",
    "            shutil.copy(source_path, destination_path)\n",
    "\n"
   ]
  },
  {
   "cell_type": "code",
   "execution_count": 8,
   "metadata": {},
   "outputs": [
    {
     "name": "stdout",
     "output_type": "stream",
     "text": [
      "Initialised with 2267 image(s) found.\n",
      "Output directory set to data/augumented_data/tumor/output."
     ]
    },
    {
     "name": "stderr",
     "output_type": "stream",
     "text": [
      "Processing <PIL.Image.Image image mode=RGB size=279x354 at 0x11F123D10>: 100%|██████████| 3000/3000 [00:06<00:00, 470.15 Samples/s]                     \n"
     ]
    }
   ],
   "source": [
    "path_to_files = 'data/augumented_data/tumor/'\n",
    "\n",
    "p = Augmentor.Pipeline(path_to_files)\n",
    "\n",
    "p.flip_left_right(probability=0.5)\n",
    "p.random_brightness(probability=0.5, min_factor=0.3, max_factor=0.6)\n",
    "\n",
    "p.set_save_format\n",
    "p.sample(3000)"
   ]
  },
  {
   "cell_type": "code",
   "execution_count": 9,
   "metadata": {},
   "outputs": [
    {
     "name": "stdout",
     "output_type": "stream",
     "text": [
      "Initialised with 2030 image(s) found.\n",
      "Output directory set to data/augumented_data/normal/output."
     ]
    },
    {
     "name": "stderr",
     "output_type": "stream",
     "text": [
      "Processing <PIL.Image.Image image mode=RGB size=173x201 at 0x11C32D650>: 100%|██████████| 3000/3000 [00:04<00:00, 673.42 Samples/s]                   \n"
     ]
    }
   ],
   "source": [
    "path_to_files = 'data/augumented_data/normal/'\n",
    "\n",
    "p = Augmentor.Pipeline(path_to_files)\n",
    "\n",
    "p.flip_left_right(probability=0.5)\n",
    "p.random_brightness(probability=0.5, min_factor=0.3, max_factor=0.6)\n",
    "\n",
    "p.sample(3000)"
   ]
  }
 ],
 "metadata": {
  "kernelspec": {
   "display_name": "Python 3",
   "language": "python",
   "name": "python3"
  },
  "language_info": {
   "codemirror_mode": {
    "name": "ipython",
    "version": 3
   },
   "file_extension": ".py",
   "mimetype": "text/x-python",
   "name": "python",
   "nbconvert_exporter": "python",
   "pygments_lexer": "ipython3",
   "version": "3.11.6"
  }
 },
 "nbformat": 4,
 "nbformat_minor": 2
}
