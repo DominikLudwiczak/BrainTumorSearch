{
 "cells": [
  {
   "cell_type": "code",
   "execution_count": 9,
   "metadata": {},
   "outputs": [
    {
     "name": "stdout",
     "output_type": "stream",
     "text": [
      "Initialized DVC repository.\n",
      "\n",
      "You can now commit the changes to git.\n",
      "\n",
      "+---------------------------------------------------------------------+\n",
      "|                                                                     |\n",
      "|        DVC has enabled anonymous aggregate usage analytics.         |\n",
      "|     Read the analytics documentation (and how to opt-out) here:     |\n",
      "|             <https://dvc.org/doc/user-guide/analytics>              |\n",
      "|                                                                     |\n",
      "+---------------------------------------------------------------------+\n",
      "\n",
      "What's next?\n",
      "------------\n",
      "- Check out the documentation: <https://dvc.org/doc>\n",
      "- Get help and share ideas: <https://dvc.org/chat>\n",
      "- Star us on GitHub: <https://github.com/iterative/dvc>\n"
     ]
    }
   ],
   "source": [
    "%%bash\n",
    "dvc init"
   ]
  },
  {
   "cell_type": "code",
   "execution_count": 3,
   "metadata": {},
   "outputs": [
    {
     "name": "stderr",
     "output_type": "stream",
     "text": [
      "⠋ Checking graph graph\n"
     ]
    },
    {
     "name": "stdout",
     "output_type": "stream",
     "text": [
      "\n",
      "To track the changes with git, run:\n",
      "\n",
      "\tgit add data/Brain_Tumor_Data_Set.dvc data/.gitignore\n",
      "\n",
      "To enable auto staging, run:\n",
      "\n",
      "\tdvc config core.autostage true\n"
     ]
    },
    {
     "name": "stderr",
     "output_type": "stream",
     "text": [
      "\u001b[?25h\r"
     ]
    }
   ],
   "source": [
    "%%bash\n",
    "dvc add data/metadata.csv\n",
    "dvc add data/metadata_rgb_only.csv\n",
    "dvc add \"data/Brain Tumor Data Set\""
   ]
  },
  {
   "cell_type": "code",
   "execution_count": 8,
   "metadata": {},
   "outputs": [
    {
     "name": "stdout",
     "output_type": "stream",
     "text": [
      "Setting 'repozytorium' as a default remote.\n"
     ]
    }
   ],
   "source": [
    "%%bash\n",
    "dvc remote add -d repozytorium ./dvcrepo"
   ]
  },
  {
   "cell_type": "code",
   "execution_count": 9,
   "metadata": {},
   "outputs": [
    {
     "name": "stdout",
     "output_type": "stream",
     "text": [
      "4059 files pushed\n"
     ]
    }
   ],
   "source": [
    "%%bash\n",
    "dvc push"
   ]
  },
  {
   "cell_type": "code",
   "execution_count": 10,
   "metadata": {},
   "outputs": [
    {
     "name": "stdout",
     "output_type": "stream",
     "text": [
      "total 0\n",
      "drwxr-xr-x  258 dominikludwiczak  staff  8256 Jan 23 13:18 \u001b[34m.\u001b[m\u001b[m\n",
      "drwxr-xr-x@   9 dominikludwiczak  staff   288 Jan 23 13:12 \u001b[34m..\u001b[m\u001b[m\n",
      "drwxr-xr-x   15 dominikludwiczak  staff   480 Jan 23 13:18 \u001b[34m00\u001b[m\u001b[m\n",
      "drwxr-xr-x   15 dominikludwiczak  staff   480 Jan 23 13:18 \u001b[34m01\u001b[m\u001b[m\n",
      "drwxr-xr-x   18 dominikludwiczak  staff   576 Jan 23 13:18 \u001b[34m02\u001b[m\u001b[m\n",
      "drwxr-xr-x   15 dominikludwiczak  staff   480 Jan 23 13:18 \u001b[34m03\u001b[m\u001b[m\n",
      "drwxr-xr-x   18 dominikludwiczak  staff   576 Jan 23 13:18 \u001b[34m04\u001b[m\u001b[m\n",
      "drwxr-xr-x   14 dominikludwiczak  staff   448 Jan 23 13:18 \u001b[34m05\u001b[m\u001b[m\n",
      "drwxr-xr-x   17 dominikludwiczak  staff   544 Jan 23 13:18 \u001b[34m06\u001b[m\u001b[m\n",
      "drwxr-xr-x   18 dominikludwiczak  staff   576 Jan 23 13:18 \u001b[34m07\u001b[m\u001b[m\n",
      "drwxr-xr-x   14 dominikludwiczak  staff   448 Jan 23 13:18 \u001b[34m08\u001b[m\u001b[m\n",
      "drwxr-xr-x   17 dominikludwiczak  staff   544 Jan 23 13:18 \u001b[34m09\u001b[m\u001b[m\n",
      "drwxr-xr-x   19 dominikludwiczak  staff   608 Jan 23 13:18 \u001b[34m0a\u001b[m\u001b[m\n",
      "drwxr-xr-x   13 dominikludwiczak  staff   416 Jan 23 13:18 \u001b[34m0b\u001b[m\u001b[m\n",
      "drwxr-xr-x   15 dominikludwiczak  staff   480 Jan 23 13:18 \u001b[34m0c\u001b[m\u001b[m\n",
      "drwxr-xr-x   17 dominikludwiczak  staff   544 Jan 23 13:18 \u001b[34m0d\u001b[m\u001b[m\n",
      "drwxr-xr-x   19 dominikludwiczak  staff   608 Jan 23 13:18 \u001b[34m0e\u001b[m\u001b[m\n",
      "drwxr-xr-x   27 dominikludwiczak  staff   864 Jan 23 13:18 \u001b[34m0f\u001b[m\u001b[m\n",
      "drwxr-xr-x   15 dominikludwiczak  staff   480 Jan 23 13:18 \u001b[34m10\u001b[m\u001b[m\n",
      "drwxr-xr-x   24 dominikludwiczak  staff   768 Jan 23 13:18 \u001b[34m11\u001b[m\u001b[m\n",
      "drwxr-xr-x   22 dominikludwiczak  staff   704 Jan 23 13:18 \u001b[34m12\u001b[m\u001b[m\n",
      "drwxr-xr-x   17 dominikludwiczak  staff   544 Jan 23 13:18 \u001b[34m13\u001b[m\u001b[m\n",
      "drwxr-xr-x   16 dominikludwiczak  staff   512 Jan 23 13:18 \u001b[34m14\u001b[m\u001b[m\n",
      "drwxr-xr-x   13 dominikludwiczak  staff   416 Jan 23 13:18 \u001b[34m15\u001b[m\u001b[m\n",
      "drwxr-xr-x   15 dominikludwiczak  staff   480 Jan 23 13:18 \u001b[34m16\u001b[m\u001b[m\n",
      "drwxr-xr-x   18 dominikludwiczak  staff   576 Jan 23 13:18 \u001b[34m17\u001b[m\u001b[m\n",
      "drwxr-xr-x   16 dominikludwiczak  staff   512 Jan 23 13:18 \u001b[34m18\u001b[m\u001b[m\n",
      "drwxr-xr-x   15 dominikludwiczak  staff   480 Jan 23 13:18 \u001b[34m19\u001b[m\u001b[m\n",
      "drwxr-xr-x   19 dominikludwiczak  staff   608 Jan 23 13:18 \u001b[34m1a\u001b[m\u001b[m\n",
      "drwxr-xr-x   23 dominikludwiczak  staff   736 Jan 23 13:18 \u001b[34m1b\u001b[m\u001b[m\n",
      "drwxr-xr-x   20 dominikludwiczak  staff   640 Jan 23 13:18 \u001b[34m1c\u001b[m\u001b[m\n",
      "drwxr-xr-x   21 dominikludwiczak  staff   672 Jan 23 13:18 \u001b[34m1d\u001b[m\u001b[m\n",
      "drwxr-xr-x   19 dominikludwiczak  staff   608 Jan 23 13:18 \u001b[34m1e\u001b[m\u001b[m\n",
      "drwxr-xr-x   13 dominikludwiczak  staff   416 Jan 23 13:18 \u001b[34m1f\u001b[m\u001b[m\n",
      "drwxr-xr-x   22 dominikludwiczak  staff   704 Jan 23 13:18 \u001b[34m20\u001b[m\u001b[m\n",
      "drwxr-xr-x   14 dominikludwiczak  staff   448 Jan 23 13:18 \u001b[34m21\u001b[m\u001b[m\n",
      "drwxr-xr-x   17 dominikludwiczak  staff   544 Jan 23 13:18 \u001b[34m22\u001b[m\u001b[m\n",
      "drwxr-xr-x   13 dominikludwiczak  staff   416 Jan 23 13:18 \u001b[34m23\u001b[m\u001b[m\n",
      "drwxr-xr-x   24 dominikludwiczak  staff   768 Jan 23 13:18 \u001b[34m24\u001b[m\u001b[m\n",
      "drwxr-xr-x   24 dominikludwiczak  staff   768 Jan 23 13:18 \u001b[34m25\u001b[m\u001b[m\n",
      "drwxr-xr-x   15 dominikludwiczak  staff   480 Jan 23 13:18 \u001b[34m26\u001b[m\u001b[m\n",
      "drwxr-xr-x   12 dominikludwiczak  staff   384 Jan 23 13:18 \u001b[34m27\u001b[m\u001b[m\n",
      "drwxr-xr-x   19 dominikludwiczak  staff   608 Jan 23 13:18 \u001b[34m28\u001b[m\u001b[m\n",
      "drwxr-xr-x   16 dominikludwiczak  staff   512 Jan 23 13:18 \u001b[34m29\u001b[m\u001b[m\n",
      "drwxr-xr-x   18 dominikludwiczak  staff   576 Jan 23 13:18 \u001b[34m2a\u001b[m\u001b[m\n",
      "drwxr-xr-x   14 dominikludwiczak  staff   448 Jan 23 13:18 \u001b[34m2b\u001b[m\u001b[m\n",
      "drwxr-xr-x   26 dominikludwiczak  staff   832 Jan 23 13:18 \u001b[34m2c\u001b[m\u001b[m\n",
      "drwxr-xr-x   14 dominikludwiczak  staff   448 Jan 23 13:18 \u001b[34m2d\u001b[m\u001b[m\n",
      "drwxr-xr-x   16 dominikludwiczak  staff   512 Jan 23 13:18 \u001b[34m2e\u001b[m\u001b[m\n",
      "drwxr-xr-x   23 dominikludwiczak  staff   736 Jan 23 13:18 \u001b[34m2f\u001b[m\u001b[m\n",
      "drwxr-xr-x   22 dominikludwiczak  staff   704 Jan 23 13:18 \u001b[34m30\u001b[m\u001b[m\n",
      "drwxr-xr-x   13 dominikludwiczak  staff   416 Jan 23 13:18 \u001b[34m31\u001b[m\u001b[m\n",
      "drwxr-xr-x   13 dominikludwiczak  staff   416 Jan 23 13:18 \u001b[34m32\u001b[m\u001b[m\n",
      "drwxr-xr-x   14 dominikludwiczak  staff   448 Jan 23 13:18 \u001b[34m33\u001b[m\u001b[m\n",
      "drwxr-xr-x   25 dominikludwiczak  staff   800 Jan 23 13:18 \u001b[34m34\u001b[m\u001b[m\n",
      "drwxr-xr-x   21 dominikludwiczak  staff   672 Jan 23 13:18 \u001b[34m35\u001b[m\u001b[m\n",
      "drwxr-xr-x   18 dominikludwiczak  staff   576 Jan 23 13:18 \u001b[34m36\u001b[m\u001b[m\n",
      "drwxr-xr-x   15 dominikludwiczak  staff   480 Jan 23 13:18 \u001b[34m37\u001b[m\u001b[m\n",
      "drwxr-xr-x   21 dominikludwiczak  staff   672 Jan 23 13:18 \u001b[34m38\u001b[m\u001b[m\n",
      "drwxr-xr-x   17 dominikludwiczak  staff   544 Jan 23 13:18 \u001b[34m39\u001b[m\u001b[m\n",
      "drwxr-xr-x   15 dominikludwiczak  staff   480 Jan 23 13:18 \u001b[34m3a\u001b[m\u001b[m\n",
      "drwxr-xr-x   14 dominikludwiczak  staff   448 Jan 23 13:18 \u001b[34m3b\u001b[m\u001b[m\n",
      "drwxr-xr-x   17 dominikludwiczak  staff   544 Jan 23 13:18 \u001b[34m3c\u001b[m\u001b[m\n",
      "drwxr-xr-x   20 dominikludwiczak  staff   640 Jan 23 13:18 \u001b[34m3d\u001b[m\u001b[m\n",
      "drwxr-xr-x   12 dominikludwiczak  staff   384 Jan 23 13:18 \u001b[34m3e\u001b[m\u001b[m\n",
      "drwxr-xr-x   11 dominikludwiczak  staff   352 Jan 23 13:18 \u001b[34m3f\u001b[m\u001b[m\n",
      "drwxr-xr-x   23 dominikludwiczak  staff   736 Jan 23 13:18 \u001b[34m40\u001b[m\u001b[m\n",
      "drwxr-xr-x   17 dominikludwiczak  staff   544 Jan 23 13:18 \u001b[34m41\u001b[m\u001b[m\n",
      "drwxr-xr-x   13 dominikludwiczak  staff   416 Jan 23 13:18 \u001b[34m42\u001b[m\u001b[m\n",
      "drwxr-xr-x   16 dominikludwiczak  staff   512 Jan 23 13:18 \u001b[34m43\u001b[m\u001b[m\n",
      "drwxr-xr-x   23 dominikludwiczak  staff   736 Jan 23 13:18 \u001b[34m44\u001b[m\u001b[m\n",
      "drwxr-xr-x   23 dominikludwiczak  staff   736 Jan 23 13:18 \u001b[34m45\u001b[m\u001b[m\n",
      "drwxr-xr-x   24 dominikludwiczak  staff   768 Jan 23 13:18 \u001b[34m46\u001b[m\u001b[m\n",
      "drwxr-xr-x   19 dominikludwiczak  staff   608 Jan 23 13:18 \u001b[34m47\u001b[m\u001b[m\n",
      "drwxr-xr-x   12 dominikludwiczak  staff   384 Jan 23 13:18 \u001b[34m48\u001b[m\u001b[m\n",
      "drwxr-xr-x   18 dominikludwiczak  staff   576 Jan 23 13:18 \u001b[34m49\u001b[m\u001b[m\n",
      "drwxr-xr-x   15 dominikludwiczak  staff   480 Jan 23 13:18 \u001b[34m4a\u001b[m\u001b[m\n",
      "drwxr-xr-x   34 dominikludwiczak  staff  1088 Jan 23 13:18 \u001b[34m4b\u001b[m\u001b[m\n",
      "drwxr-xr-x   21 dominikludwiczak  staff   672 Jan 23 13:18 \u001b[34m4c\u001b[m\u001b[m\n",
      "drwxr-xr-x   16 dominikludwiczak  staff   512 Jan 23 13:18 \u001b[34m4d\u001b[m\u001b[m\n",
      "drwxr-xr-x   18 dominikludwiczak  staff   576 Jan 23 13:18 \u001b[34m4e\u001b[m\u001b[m\n",
      "drwxr-xr-x   10 dominikludwiczak  staff   320 Jan 23 13:18 \u001b[34m4f\u001b[m\u001b[m\n",
      "drwxr-xr-x   16 dominikludwiczak  staff   512 Jan 23 13:18 \u001b[34m50\u001b[m\u001b[m\n",
      "drwxr-xr-x   25 dominikludwiczak  staff   800 Jan 23 13:18 \u001b[34m51\u001b[m\u001b[m\n",
      "drwxr-xr-x   18 dominikludwiczak  staff   576 Jan 23 13:18 \u001b[34m52\u001b[m\u001b[m\n",
      "drwxr-xr-x   16 dominikludwiczak  staff   512 Jan 23 13:18 \u001b[34m53\u001b[m\u001b[m\n",
      "drwxr-xr-x   21 dominikludwiczak  staff   672 Jan 23 13:18 \u001b[34m54\u001b[m\u001b[m\n",
      "drwxr-xr-x   15 dominikludwiczak  staff   480 Jan 23 13:18 \u001b[34m55\u001b[m\u001b[m\n",
      "drwxr-xr-x   16 dominikludwiczak  staff   512 Jan 23 13:18 \u001b[34m56\u001b[m\u001b[m\n",
      "drwxr-xr-x   19 dominikludwiczak  staff   608 Jan 23 13:18 \u001b[34m57\u001b[m\u001b[m\n",
      "drwxr-xr-x   18 dominikludwiczak  staff   576 Jan 23 13:18 \u001b[34m58\u001b[m\u001b[m\n",
      "drwxr-xr-x   22 dominikludwiczak  staff   704 Jan 23 13:18 \u001b[34m59\u001b[m\u001b[m\n",
      "drwxr-xr-x   23 dominikludwiczak  staff   736 Jan 23 13:18 \u001b[34m5a\u001b[m\u001b[m\n",
      "drwxr-xr-x   25 dominikludwiczak  staff   800 Jan 23 13:18 \u001b[34m5b\u001b[m\u001b[m\n",
      "drwxr-xr-x   10 dominikludwiczak  staff   320 Jan 23 13:18 \u001b[34m5c\u001b[m\u001b[m\n",
      "drwxr-xr-x   24 dominikludwiczak  staff   768 Jan 23 13:18 \u001b[34m5d\u001b[m\u001b[m\n",
      "drwxr-xr-x   23 dominikludwiczak  staff   736 Jan 23 13:18 \u001b[34m5e\u001b[m\u001b[m\n",
      "drwxr-xr-x   20 dominikludwiczak  staff   640 Jan 23 13:18 \u001b[34m5f\u001b[m\u001b[m\n",
      "drwxr-xr-x   18 dominikludwiczak  staff   576 Jan 23 13:18 \u001b[34m60\u001b[m\u001b[m\n",
      "drwxr-xr-x   27 dominikludwiczak  staff   864 Jan 23 13:18 \u001b[34m61\u001b[m\u001b[m\n",
      "drwxr-xr-x   10 dominikludwiczak  staff   320 Jan 23 13:18 \u001b[34m62\u001b[m\u001b[m\n",
      "drwxr-xr-x   16 dominikludwiczak  staff   512 Jan 23 13:18 \u001b[34m63\u001b[m\u001b[m\n",
      "drwxr-xr-x   21 dominikludwiczak  staff   672 Jan 23 13:18 \u001b[34m64\u001b[m\u001b[m\n",
      "drwxr-xr-x   21 dominikludwiczak  staff   672 Jan 23 13:18 \u001b[34m65\u001b[m\u001b[m\n",
      "drwxr-xr-x   18 dominikludwiczak  staff   576 Jan 23 13:18 \u001b[34m66\u001b[m\u001b[m\n",
      "drwxr-xr-x   19 dominikludwiczak  staff   608 Jan 23 13:18 \u001b[34m67\u001b[m\u001b[m\n",
      "drwxr-xr-x   13 dominikludwiczak  staff   416 Jan 23 13:18 \u001b[34m68\u001b[m\u001b[m\n",
      "drwxr-xr-x   17 dominikludwiczak  staff   544 Jan 23 13:18 \u001b[34m69\u001b[m\u001b[m\n",
      "drwxr-xr-x   23 dominikludwiczak  staff   736 Jan 23 13:18 \u001b[34m6a\u001b[m\u001b[m\n",
      "drwxr-xr-x   19 dominikludwiczak  staff   608 Jan 23 13:18 \u001b[34m6b\u001b[m\u001b[m\n",
      "drwxr-xr-x   15 dominikludwiczak  staff   480 Jan 23 13:18 \u001b[34m6c\u001b[m\u001b[m\n",
      "drwxr-xr-x   18 dominikludwiczak  staff   576 Jan 23 13:18 \u001b[34m6d\u001b[m\u001b[m\n",
      "drwxr-xr-x   17 dominikludwiczak  staff   544 Jan 23 13:18 \u001b[34m6e\u001b[m\u001b[m\n",
      "drwxr-xr-x    8 dominikludwiczak  staff   256 Jan 23 13:18 \u001b[34m6f\u001b[m\u001b[m\n",
      "drwxr-xr-x   19 dominikludwiczak  staff   608 Jan 23 13:18 \u001b[34m70\u001b[m\u001b[m\n",
      "drwxr-xr-x   20 dominikludwiczak  staff   640 Jan 23 13:18 \u001b[34m71\u001b[m\u001b[m\n",
      "drwxr-xr-x   16 dominikludwiczak  staff   512 Jan 23 13:18 \u001b[34m72\u001b[m\u001b[m\n",
      "drwxr-xr-x   16 dominikludwiczak  staff   512 Jan 23 13:18 \u001b[34m73\u001b[m\u001b[m\n",
      "drwxr-xr-x   15 dominikludwiczak  staff   480 Jan 23 13:18 \u001b[34m74\u001b[m\u001b[m\n",
      "drwxr-xr-x   25 dominikludwiczak  staff   800 Jan 23 13:18 \u001b[34m75\u001b[m\u001b[m\n",
      "drwxr-xr-x   17 dominikludwiczak  staff   544 Jan 23 13:18 \u001b[34m76\u001b[m\u001b[m\n",
      "drwxr-xr-x   19 dominikludwiczak  staff   608 Jan 23 13:18 \u001b[34m77\u001b[m\u001b[m\n",
      "drwxr-xr-x   27 dominikludwiczak  staff   864 Jan 23 13:18 \u001b[34m78\u001b[m\u001b[m\n",
      "drwxr-xr-x   16 dominikludwiczak  staff   512 Jan 23 13:18 \u001b[34m79\u001b[m\u001b[m\n",
      "drwxr-xr-x   22 dominikludwiczak  staff   704 Jan 23 13:18 \u001b[34m7a\u001b[m\u001b[m\n",
      "drwxr-xr-x   15 dominikludwiczak  staff   480 Jan 23 13:18 \u001b[34m7b\u001b[m\u001b[m\n",
      "drwxr-xr-x   27 dominikludwiczak  staff   864 Jan 23 13:18 \u001b[34m7c\u001b[m\u001b[m\n",
      "drwxr-xr-x   11 dominikludwiczak  staff   352 Jan 23 13:18 \u001b[34m7d\u001b[m\u001b[m\n",
      "drwxr-xr-x   17 dominikludwiczak  staff   544 Jan 23 13:18 \u001b[34m7e\u001b[m\u001b[m\n",
      "drwxr-xr-x   20 dominikludwiczak  staff   640 Jan 23 13:18 \u001b[34m7f\u001b[m\u001b[m\n",
      "drwxr-xr-x   17 dominikludwiczak  staff   544 Jan 23 13:18 \u001b[34m80\u001b[m\u001b[m\n",
      "drwxr-xr-x   16 dominikludwiczak  staff   512 Jan 23 13:18 \u001b[34m81\u001b[m\u001b[m\n",
      "drwxr-xr-x   22 dominikludwiczak  staff   704 Jan 23 13:18 \u001b[34m82\u001b[m\u001b[m\n",
      "drwxr-xr-x   17 dominikludwiczak  staff   544 Jan 23 13:18 \u001b[34m83\u001b[m\u001b[m\n",
      "drwxr-xr-x   19 dominikludwiczak  staff   608 Jan 23 13:18 \u001b[34m84\u001b[m\u001b[m\n",
      "drwxr-xr-x   17 dominikludwiczak  staff   544 Jan 23 13:18 \u001b[34m85\u001b[m\u001b[m\n",
      "drwxr-xr-x   20 dominikludwiczak  staff   640 Jan 23 13:18 \u001b[34m86\u001b[m\u001b[m\n",
      "drwxr-xr-x   21 dominikludwiczak  staff   672 Jan 23 13:18 \u001b[34m87\u001b[m\u001b[m\n",
      "drwxr-xr-x   16 dominikludwiczak  staff   512 Jan 23 13:18 \u001b[34m88\u001b[m\u001b[m\n",
      "drwxr-xr-x   10 dominikludwiczak  staff   320 Jan 23 13:18 \u001b[34m89\u001b[m\u001b[m\n",
      "drwxr-xr-x   13 dominikludwiczak  staff   416 Jan 23 13:18 \u001b[34m8a\u001b[m\u001b[m\n",
      "drwxr-xr-x   16 dominikludwiczak  staff   512 Jan 23 13:18 \u001b[34m8b\u001b[m\u001b[m\n",
      "drwxr-xr-x   16 dominikludwiczak  staff   512 Jan 23 13:18 \u001b[34m8c\u001b[m\u001b[m\n",
      "drwxr-xr-x   20 dominikludwiczak  staff   640 Jan 23 13:18 \u001b[34m8d\u001b[m\u001b[m\n",
      "drwxr-xr-x   23 dominikludwiczak  staff   736 Jan 23 13:18 \u001b[34m8e\u001b[m\u001b[m\n",
      "drwxr-xr-x   26 dominikludwiczak  staff   832 Jan 23 13:18 \u001b[34m8f\u001b[m\u001b[m\n",
      "drwxr-xr-x   21 dominikludwiczak  staff   672 Jan 23 13:18 \u001b[34m90\u001b[m\u001b[m\n",
      "drwxr-xr-x   19 dominikludwiczak  staff   608 Jan 23 13:18 \u001b[34m91\u001b[m\u001b[m\n",
      "drwxr-xr-x   17 dominikludwiczak  staff   544 Jan 23 13:18 \u001b[34m92\u001b[m\u001b[m\n",
      "drwxr-xr-x   13 dominikludwiczak  staff   416 Jan 23 13:18 \u001b[34m93\u001b[m\u001b[m\n",
      "drwxr-xr-x   11 dominikludwiczak  staff   352 Jan 23 13:18 \u001b[34m94\u001b[m\u001b[m\n",
      "drwxr-xr-x   18 dominikludwiczak  staff   576 Jan 23 13:18 \u001b[34m95\u001b[m\u001b[m\n",
      "drwxr-xr-x   29 dominikludwiczak  staff   928 Jan 23 13:18 \u001b[34m96\u001b[m\u001b[m\n",
      "drwxr-xr-x   14 dominikludwiczak  staff   448 Jan 23 13:18 \u001b[34m97\u001b[m\u001b[m\n",
      "drwxr-xr-x   26 dominikludwiczak  staff   832 Jan 23 13:18 \u001b[34m98\u001b[m\u001b[m\n",
      "drwxr-xr-x   22 dominikludwiczak  staff   704 Jan 23 13:18 \u001b[34m99\u001b[m\u001b[m\n",
      "drwxr-xr-x   14 dominikludwiczak  staff   448 Jan 23 13:18 \u001b[34m9a\u001b[m\u001b[m\n",
      "drwxr-xr-x   21 dominikludwiczak  staff   672 Jan 23 13:18 \u001b[34m9b\u001b[m\u001b[m\n",
      "drwxr-xr-x   11 dominikludwiczak  staff   352 Jan 23 13:18 \u001b[34m9c\u001b[m\u001b[m\n",
      "drwxr-xr-x   15 dominikludwiczak  staff   480 Jan 23 13:18 \u001b[34m9d\u001b[m\u001b[m\n",
      "drwxr-xr-x   30 dominikludwiczak  staff   960 Jan 23 13:18 \u001b[34m9e\u001b[m\u001b[m\n",
      "drwxr-xr-x   17 dominikludwiczak  staff   544 Jan 23 13:18 \u001b[34m9f\u001b[m\u001b[m\n",
      "drwxr-xr-x   16 dominikludwiczak  staff   512 Jan 23 13:18 \u001b[34ma0\u001b[m\u001b[m\n",
      "drwxr-xr-x   12 dominikludwiczak  staff   384 Jan 23 13:18 \u001b[34ma1\u001b[m\u001b[m\n",
      "drwxr-xr-x   17 dominikludwiczak  staff   544 Jan 23 13:18 \u001b[34ma2\u001b[m\u001b[m\n",
      "drwxr-xr-x   17 dominikludwiczak  staff   544 Jan 23 13:18 \u001b[34ma3\u001b[m\u001b[m\n",
      "drwxr-xr-x   16 dominikludwiczak  staff   512 Jan 23 13:18 \u001b[34ma4\u001b[m\u001b[m\n",
      "drwxr-xr-x   21 dominikludwiczak  staff   672 Jan 23 13:18 \u001b[34ma5\u001b[m\u001b[m\n",
      "drwxr-xr-x   13 dominikludwiczak  staff   416 Jan 23 13:18 \u001b[34ma6\u001b[m\u001b[m\n",
      "drwxr-xr-x   13 dominikludwiczak  staff   416 Jan 23 13:18 \u001b[34ma7\u001b[m\u001b[m\n",
      "drwxr-xr-x   17 dominikludwiczak  staff   544 Jan 23 13:18 \u001b[34ma8\u001b[m\u001b[m\n",
      "drwxr-xr-x   17 dominikludwiczak  staff   544 Jan 23 13:18 \u001b[34ma9\u001b[m\u001b[m\n",
      "drwxr-xr-x   18 dominikludwiczak  staff   576 Jan 23 13:18 \u001b[34maa\u001b[m\u001b[m\n",
      "drwxr-xr-x   12 dominikludwiczak  staff   384 Jan 23 13:18 \u001b[34mab\u001b[m\u001b[m\n",
      "drwxr-xr-x   11 dominikludwiczak  staff   352 Jan 23 13:18 \u001b[34mac\u001b[m\u001b[m\n",
      "drwxr-xr-x   16 dominikludwiczak  staff   512 Jan 23 13:18 \u001b[34mad\u001b[m\u001b[m\n",
      "drwxr-xr-x   20 dominikludwiczak  staff   640 Jan 23 13:18 \u001b[34mae\u001b[m\u001b[m\n",
      "drwxr-xr-x   13 dominikludwiczak  staff   416 Jan 23 13:18 \u001b[34maf\u001b[m\u001b[m\n",
      "drwxr-xr-x   13 dominikludwiczak  staff   416 Jan 23 13:18 \u001b[34mb0\u001b[m\u001b[m\n",
      "drwxr-xr-x   15 dominikludwiczak  staff   480 Jan 23 13:18 \u001b[34mb1\u001b[m\u001b[m\n",
      "drwxr-xr-x   17 dominikludwiczak  staff   544 Jan 23 13:18 \u001b[34mb2\u001b[m\u001b[m\n",
      "drwxr-xr-x   18 dominikludwiczak  staff   576 Jan 23 13:18 \u001b[34mb3\u001b[m\u001b[m\n",
      "drwxr-xr-x   17 dominikludwiczak  staff   544 Jan 23 13:18 \u001b[34mb4\u001b[m\u001b[m\n",
      "drwxr-xr-x   22 dominikludwiczak  staff   704 Jan 23 13:18 \u001b[34mb5\u001b[m\u001b[m\n",
      "drwxr-xr-x   26 dominikludwiczak  staff   832 Jan 23 13:18 \u001b[34mb6\u001b[m\u001b[m\n",
      "drwxr-xr-x   18 dominikludwiczak  staff   576 Jan 23 13:18 \u001b[34mb7\u001b[m\u001b[m\n",
      "drwxr-xr-x   12 dominikludwiczak  staff   384 Jan 23 13:18 \u001b[34mb8\u001b[m\u001b[m\n",
      "drwxr-xr-x   20 dominikludwiczak  staff   640 Jan 23 13:18 \u001b[34mb9\u001b[m\u001b[m\n",
      "drwxr-xr-x   18 dominikludwiczak  staff   576 Jan 23 13:18 \u001b[34mba\u001b[m\u001b[m\n",
      "drwxr-xr-x   25 dominikludwiczak  staff   800 Jan 23 13:18 \u001b[34mbb\u001b[m\u001b[m\n",
      "drwxr-xr-x   17 dominikludwiczak  staff   544 Jan 23 13:18 \u001b[34mbc\u001b[m\u001b[m\n",
      "drwxr-xr-x   19 dominikludwiczak  staff   608 Jan 23 13:18 \u001b[34mbd\u001b[m\u001b[m\n",
      "drwxr-xr-x   20 dominikludwiczak  staff   640 Jan 23 13:18 \u001b[34mbe\u001b[m\u001b[m\n",
      "drwxr-xr-x   19 dominikludwiczak  staff   608 Jan 23 13:18 \u001b[34mbf\u001b[m\u001b[m\n",
      "drwxr-xr-x   22 dominikludwiczak  staff   704 Jan 23 13:18 \u001b[34mc0\u001b[m\u001b[m\n",
      "drwxr-xr-x   14 dominikludwiczak  staff   448 Jan 23 13:18 \u001b[34mc1\u001b[m\u001b[m\n",
      "drwxr-xr-x   17 dominikludwiczak  staff   544 Jan 23 13:18 \u001b[34mc2\u001b[m\u001b[m\n",
      "drwxr-xr-x   18 dominikludwiczak  staff   576 Jan 23 13:18 \u001b[34mc3\u001b[m\u001b[m\n",
      "drwxr-xr-x   19 dominikludwiczak  staff   608 Jan 23 13:18 \u001b[34mc4\u001b[m\u001b[m\n",
      "drwxr-xr-x   14 dominikludwiczak  staff   448 Jan 23 13:18 \u001b[34mc5\u001b[m\u001b[m\n",
      "drwxr-xr-x   12 dominikludwiczak  staff   384 Jan 23 13:18 \u001b[34mc6\u001b[m\u001b[m\n",
      "drwxr-xr-x   22 dominikludwiczak  staff   704 Jan 23 13:18 \u001b[34mc7\u001b[m\u001b[m\n",
      "drwxr-xr-x   19 dominikludwiczak  staff   608 Jan 23 13:18 \u001b[34mc8\u001b[m\u001b[m\n",
      "drwxr-xr-x   20 dominikludwiczak  staff   640 Jan 23 13:18 \u001b[34mc9\u001b[m\u001b[m\n",
      "drwxr-xr-x   17 dominikludwiczak  staff   544 Jan 23 13:18 \u001b[34mca\u001b[m\u001b[m\n",
      "drwxr-xr-x   13 dominikludwiczak  staff   416 Jan 23 13:18 \u001b[34mcb\u001b[m\u001b[m\n",
      "drwxr-xr-x   20 dominikludwiczak  staff   640 Jan 23 13:18 \u001b[34mcc\u001b[m\u001b[m\n",
      "drwxr-xr-x   20 dominikludwiczak  staff   640 Jan 23 13:18 \u001b[34mcd\u001b[m\u001b[m\n",
      "drwxr-xr-x   19 dominikludwiczak  staff   608 Jan 23 13:18 \u001b[34mce\u001b[m\u001b[m\n",
      "drwxr-xr-x   16 dominikludwiczak  staff   512 Jan 23 13:18 \u001b[34mcf\u001b[m\u001b[m\n",
      "drwxr-xr-x   16 dominikludwiczak  staff   512 Jan 23 13:18 \u001b[34md0\u001b[m\u001b[m\n",
      "drwxr-xr-x   20 dominikludwiczak  staff   640 Jan 23 13:18 \u001b[34md1\u001b[m\u001b[m\n",
      "drwxr-xr-x   10 dominikludwiczak  staff   320 Jan 23 13:18 \u001b[34md2\u001b[m\u001b[m\n",
      "drwxr-xr-x   11 dominikludwiczak  staff   352 Jan 23 13:18 \u001b[34md3\u001b[m\u001b[m\n",
      "drwxr-xr-x   18 dominikludwiczak  staff   576 Jan 23 13:18 \u001b[34md4\u001b[m\u001b[m\n",
      "drwxr-xr-x   17 dominikludwiczak  staff   544 Jan 23 13:18 \u001b[34md5\u001b[m\u001b[m\n",
      "drwxr-xr-x   23 dominikludwiczak  staff   736 Jan 23 13:18 \u001b[34md6\u001b[m\u001b[m\n",
      "drwxr-xr-x   29 dominikludwiczak  staff   928 Jan 23 13:18 \u001b[34md7\u001b[m\u001b[m\n",
      "drwxr-xr-x   18 dominikludwiczak  staff   576 Jan 23 13:18 \u001b[34md8\u001b[m\u001b[m\n",
      "drwxr-xr-x   24 dominikludwiczak  staff   768 Jan 23 13:18 \u001b[34md9\u001b[m\u001b[m\n",
      "drwxr-xr-x   15 dominikludwiczak  staff   480 Jan 23 13:18 \u001b[34mda\u001b[m\u001b[m\n",
      "drwxr-xr-x   15 dominikludwiczak  staff   480 Jan 23 13:18 \u001b[34mdb\u001b[m\u001b[m\n",
      "drwxr-xr-x   17 dominikludwiczak  staff   544 Jan 23 13:18 \u001b[34mdc\u001b[m\u001b[m\n",
      "drwxr-xr-x   20 dominikludwiczak  staff   640 Jan 23 13:18 \u001b[34mdd\u001b[m\u001b[m\n",
      "drwxr-xr-x   15 dominikludwiczak  staff   480 Jan 23 13:18 \u001b[34mde\u001b[m\u001b[m\n",
      "drwxr-xr-x   14 dominikludwiczak  staff   448 Jan 23 13:18 \u001b[34mdf\u001b[m\u001b[m\n",
      "drwxr-xr-x   24 dominikludwiczak  staff   768 Jan 23 13:18 \u001b[34me0\u001b[m\u001b[m\n",
      "drwxr-xr-x   17 dominikludwiczak  staff   544 Jan 23 13:18 \u001b[34me1\u001b[m\u001b[m\n",
      "drwxr-xr-x   17 dominikludwiczak  staff   544 Jan 23 13:18 \u001b[34me2\u001b[m\u001b[m\n",
      "drwxr-xr-x   17 dominikludwiczak  staff   544 Jan 23 13:18 \u001b[34me3\u001b[m\u001b[m\n",
      "drwxr-xr-x   18 dominikludwiczak  staff   576 Jan 23 13:18 \u001b[34me4\u001b[m\u001b[m\n",
      "drwxr-xr-x   15 dominikludwiczak  staff   480 Jan 23 13:18 \u001b[34me5\u001b[m\u001b[m\n",
      "drwxr-xr-x   14 dominikludwiczak  staff   448 Jan 23 13:18 \u001b[34me6\u001b[m\u001b[m\n",
      "drwxr-xr-x   14 dominikludwiczak  staff   448 Jan 23 13:18 \u001b[34me7\u001b[m\u001b[m\n",
      "drwxr-xr-x   23 dominikludwiczak  staff   736 Jan 23 13:18 \u001b[34me8\u001b[m\u001b[m\n",
      "drwxr-xr-x   18 dominikludwiczak  staff   576 Jan 23 13:18 \u001b[34me9\u001b[m\u001b[m\n",
      "drwxr-xr-x   24 dominikludwiczak  staff   768 Jan 23 13:18 \u001b[34mea\u001b[m\u001b[m\n",
      "drwxr-xr-x   20 dominikludwiczak  staff   640 Jan 23 13:18 \u001b[34meb\u001b[m\u001b[m\n",
      "drwxr-xr-x   17 dominikludwiczak  staff   544 Jan 23 13:18 \u001b[34mec\u001b[m\u001b[m\n",
      "drwxr-xr-x   15 dominikludwiczak  staff   480 Jan 23 13:18 \u001b[34med\u001b[m\u001b[m\n",
      "drwxr-xr-x   14 dominikludwiczak  staff   448 Jan 23 13:18 \u001b[34mee\u001b[m\u001b[m\n",
      "drwxr-xr-x   10 dominikludwiczak  staff   320 Jan 23 13:18 \u001b[34mef\u001b[m\u001b[m\n",
      "drwxr-xr-x   17 dominikludwiczak  staff   544 Jan 23 13:18 \u001b[34mf0\u001b[m\u001b[m\n",
      "drwxr-xr-x   18 dominikludwiczak  staff   576 Jan 23 13:18 \u001b[34mf1\u001b[m\u001b[m\n",
      "drwxr-xr-x   22 dominikludwiczak  staff   704 Jan 23 13:18 \u001b[34mf2\u001b[m\u001b[m\n",
      "drwxr-xr-x   19 dominikludwiczak  staff   608 Jan 23 13:18 \u001b[34mf3\u001b[m\u001b[m\n",
      "drwxr-xr-x   25 dominikludwiczak  staff   800 Jan 23 13:18 \u001b[34mf4\u001b[m\u001b[m\n",
      "drwxr-xr-x   18 dominikludwiczak  staff   576 Jan 23 13:18 \u001b[34mf5\u001b[m\u001b[m\n",
      "drwxr-xr-x   23 dominikludwiczak  staff   736 Jan 23 13:18 \u001b[34mf6\u001b[m\u001b[m\n",
      "drwxr-xr-x   14 dominikludwiczak  staff   448 Jan 23 13:18 \u001b[34mf7\u001b[m\u001b[m\n",
      "drwxr-xr-x   22 dominikludwiczak  staff   704 Jan 23 13:18 \u001b[34mf8\u001b[m\u001b[m\n",
      "drwxr-xr-x   12 dominikludwiczak  staff   384 Jan 23 13:18 \u001b[34mf9\u001b[m\u001b[m\n",
      "drwxr-xr-x   16 dominikludwiczak  staff   512 Jan 23 13:18 \u001b[34mfa\u001b[m\u001b[m\n",
      "drwxr-xr-x   14 dominikludwiczak  staff   448 Jan 23 13:18 \u001b[34mfb\u001b[m\u001b[m\n",
      "drwxr-xr-x   16 dominikludwiczak  staff   512 Jan 23 13:18 \u001b[34mfc\u001b[m\u001b[m\n",
      "drwxr-xr-x   24 dominikludwiczak  staff   768 Jan 23 13:18 \u001b[34mfd\u001b[m\u001b[m\n",
      "drwxr-xr-x   14 dominikludwiczak  staff   448 Jan 23 13:18 \u001b[34mfe\u001b[m\u001b[m\n",
      "drwxr-xr-x   17 dominikludwiczak  staff   544 Jan 23 13:18 \u001b[34mff\u001b[m\u001b[m\n"
     ]
    }
   ],
   "source": [
    "%%bash\n",
    "ls -la ./dvcrepo/"
   ]
  },
  {
   "cell_type": "code",
   "execution_count": 6,
   "metadata": {},
   "outputs": [
    {
     "name": "stderr",
     "output_type": "stream",
     "text": [
      "⠙ Checking graphng stages from the workspace\n"
     ]
    },
    {
     "name": "stdout",
     "output_type": "stream",
     "text": [
      "\n",
      "To track the changes with git, run:\n",
      "\n",
      "\tgit add 'data/Brain Tumor Data Set.dvc'\n",
      "\n",
      "To enable auto staging, run:\n",
      "\n",
      "\tdvc config core.autostage true\n"
     ]
    },
    {
     "name": "stderr",
     "output_type": "stream",
     "text": [
      "⠋ Checking graph graph\n"
     ]
    },
    {
     "name": "stdout",
     "output_type": "stream",
     "text": [
      "\n",
      "To track the changes with git, run:\n",
      "\n",
      "\tgit add data/augumented_data.dvc data/.gitignore\n",
      "\n",
      "To enable auto staging, run:\n",
      "\n",
      "\tdvc config core.autostage true\n"
     ]
    },
    {
     "name": "stderr",
     "output_type": "stream",
     "text": [
      "\u001b[?25h\r"
     ]
    }
   ],
   "source": [
    "%%bash\n",
    "dvc add \"data/Brain Tumor Data Set\"\n",
    "dvc add data/augumented_data"
   ]
  },
  {
   "cell_type": "code",
   "execution_count": 7,
   "metadata": {},
   "outputs": [
    {
     "name": "stdout",
     "output_type": "stream",
     "text": [
      "5326 files pushed\n"
     ]
    }
   ],
   "source": [
    "%%bash\n",
    "dvc push"
   ]
  }
 ],
 "metadata": {
  "kernelspec": {
   "display_name": "Python 3",
   "language": "python",
   "name": "python3"
  },
  "language_info": {
   "codemirror_mode": {
    "name": "ipython",
    "version": 3
   },
   "file_extension": ".py",
   "mimetype": "text/x-python",
   "name": "python",
   "nbconvert_exporter": "python",
   "pygments_lexer": "ipython3",
   "version": "3.10.10"
  }
 },
 "nbformat": 4,
 "nbformat_minor": 2
}
